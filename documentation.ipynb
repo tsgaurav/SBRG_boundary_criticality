{
 "cells": [
  {
   "cell_type": "code",
   "execution_count": 1,
   "metadata": {},
   "outputs": [],
   "source": [
    "# %reload_ext snakeviz\n",
    "%matplotlib inline\n",
    "%run SBRG.py\n",
    "import matplotlib.pyplot as plt"
   ]
  },
  {
   "cell_type": "markdown",
   "metadata": {},
   "source": [
    "Required package: \n",
    "- Numpy, \n",
    "- Numba (to accelerate entropy calculation), \n",
    "- Qutip (easy to compare with ED results)"
   ]
  },
  {
   "cell_type": "markdown",
   "metadata": {},
   "source": [
    "# Core\n",
    "## Pauli Algebra\n",
    "Pauli matrix class. A Pauli matrix is denoted as\n",
    "$$\\sigma=\\mathrm{i}^{x\\cdot z}\\prod_{i\\in Xs}X_i\\prod_{i\\in Zs}Z_i=\\mathrm{i}^{x\\cdot z}\\prod_{i}X_i^{x_i}Z_i^{z_i},$$\n",
    "where $x_i=\\delta(i\\in Xs)$, $z_i=\\delta(i\\in Zs)$ are vectors of 0,1, and $X_i$, $Z_i$ are the Pauli matrix on site $i$."
   ]
  },
  {
   "cell_type": "markdown",
   "metadata": {},
   "source": [
    "Pauli matrices can be created by `mkMat`\n",
    "- from Xs, Zs sets: `mkMat(Xs, Zs)`,\n",
    "- or from dict of indices: `mkMat({i:mu, ...})`,\n",
    "- or from list of indices: `mkMat([m0, mu1, ...])`."
   ]
  },
  {
   "cell_type": "code",
   "execution_count": 2,
   "metadata": {},
   "outputs": [
    {
     "data": {
      "text/plain": [
       "[<Xs:[0, 1] Zs:[1, 2]>, <Xs:[0, 1] Zs:[1, 2]>, <Xs:[0, 1] Zs:[1, 2]>]"
      ]
     },
     "execution_count": 2,
     "metadata": {},
     "output_type": "execute_result"
    }
   ],
   "source": [
    "[mkMat({0,1},{1,2}), mkMat({0:1,1:2,2:3}), mkMat([1,2,3])]"
   ]
  },
  {
   "cell_type": "markdown",
   "metadata": {},
   "source": [
    "`Mat` is hashable and can be compared."
   ]
  },
  {
   "cell_type": "code",
   "execution_count": 3,
   "metadata": {},
   "outputs": [
    {
     "name": "stdout",
     "output_type": "stream",
     "text": [
      "4553746914421323778\n"
     ]
    },
    {
     "data": {
      "text/plain": [
       "True"
      ]
     },
     "execution_count": 3,
     "metadata": {},
     "output_type": "execute_result"
    }
   ],
   "source": [
    "print(hash(mkMat()))\n",
    "mkMat() == mkMat([])"
   ]
  },
  {
   "cell_type": "markdown",
   "metadata": {},
   "source": [
    "The commutativity of two Pauli operators can be checked by `is_commute`"
   ]
  },
  {
   "cell_type": "code",
   "execution_count": 4,
   "metadata": {},
   "outputs": [
    {
     "data": {
      "text/plain": [
       "False"
      ]
     },
     "execution_count": 4,
     "metadata": {},
     "output_type": "execute_result"
    }
   ],
   "source": [
    "is_commute(mkMat([0,1,0]),mkMat([1,2,3]))"
   ]
  },
  {
   "cell_type": "markdown",
   "metadata": {},
   "source": [
    "Merge two Pauli operators by indices. Coefficients are not calculated here. The coefficient can be restored from the commutation relations later."
   ]
  },
  {
   "cell_type": "code",
   "execution_count": 5,
   "metadata": {},
   "outputs": [
    {
     "data": {
      "text/plain": [
       "<Xs:[0] Zs:[1, 2]>"
      ]
     },
     "execution_count": 5,
     "metadata": {},
     "output_type": "execute_result"
    }
   ],
   "source": [
    "pdot(mkMat([0,1,0]),mkMat([1,2,3]))"
   ]
  },
  {
   "cell_type": "markdown",
   "metadata": {},
   "source": [
    "### Pauli Monomial\n",
    "A term of Pauli operator `Term.mat` with a constant multiple `Term.val`."
   ]
  },
  {
   "cell_type": "code",
   "execution_count": 6,
   "metadata": {},
   "outputs": [
    {
     "data": {
      "text/plain": [
       "[1.0 <Xs:[] Zs:[]>, 1.0 <Xs:[0, 1] Zs:[1]>, -3.2 <Xs:[0, 1] Zs:[1]>]"
      ]
     },
     "execution_count": 6,
     "metadata": {},
     "output_type": "execute_result"
    }
   ],
   "source": [
    "[Term(), Term(mkMat([1,2])),Term(mkMat([1,2]),-3.2)]"
   ]
  },
  {
   "cell_type": "markdown",
   "metadata": {},
   "source": [
    "Consider $\\sigma_A=\\mathrm{i}^{x_A\\cdot z_A} X_A Z_A$, $\\sigma_B=\\mathrm{i}^{x_B\\cdot z_B} X_B Z_B$, then the product reads:\n",
    "$$\\sigma_A\\sigma_B=\\mathrm{i}^{x_A\\cdot z_A+x_B\\cdot z_B+2 z_A\\cdot x_B}\\quad (X_A X_B) (Z_A Z_B)=\\mathrm{i}^{x_A\\cdot z_A+x_B\\cdot z_B-x_C\\cdot z_C+2 z_A\\cdot x_B}\\quad \\mathrm{i}^{x_C\\cdot z_C}X_C Z_C=\\mathrm{i}^{n^{C}_{AB}}\\; \\sigma_C,$$\n",
    "where $X_C=X_AX_B$, $Z_C=Z_AZ_B$ and $z_C = (z_A+z_B)\\mod 2$. The power of $\\mathrm{i}$ is\n",
    "$$n^{C}_{AB}=x_A\\cdot z_A+x_B\\cdot z_B-x_C\\cdot z_C+2 z_A\\cdot x_B$$"
   ]
  },
  {
   "cell_type": "code",
   "execution_count": 7,
   "metadata": {},
   "outputs": [
    {
     "data": {
      "text/plain": [
       "1.0 <Xs:[0, 1] Zs:[0]>"
      ]
     },
     "execution_count": 7,
     "metadata": {},
     "output_type": "execute_result"
    }
   ],
   "source": [
    "dot(Term(mkMat([1,2])),Term(mkMat([3,3])))"
   ]
  },
  {
   "cell_type": "code",
   "execution_count": 8,
   "metadata": {},
   "outputs": [
    {
     "data": {
      "text/plain": [
       "-1.0 <Xs:[0] Zs:[1]>"
      ]
     },
     "execution_count": 8,
     "metadata": {},
     "output_type": "execute_result"
    }
   ],
   "source": [
    "idot(Term(mkMat([2,0])),Term(mkMat([3,3])))"
   ]
  },
  {
   "cell_type": "markdown",
   "metadata": {},
   "source": [
    "## Hamiltonian\n",
    "Hamiltonian `Ham` is a sum of Pauli monomial terms. It can be created from a list of terms."
   ]
  },
  {
   "cell_type": "code",
   "execution_count": 9,
   "metadata": {},
   "outputs": [
    {
     "data": {
      "text/plain": [
       "[1.0 <Xs:[0] Zs:[1]>, 0.8 <Xs:[] Zs:[1, 2]>, 0.5 <Xs:[1, 2] Zs:[]>, 0.2 <Xs:[] Zs:[0]>]"
      ]
     },
     "execution_count": 9,
     "metadata": {},
     "output_type": "execute_result"
    }
   ],
   "source": [
    "H = Ham(\n",
    "    [Term(mkMat([0,1,1]),0.5),\n",
    "     Term(mkMat([3,0,0]),0.2),\n",
    "     Term(mkMat([0,3,3]),0.8),\n",
    "     Term(mkMat([1,3,0]),1.0)])\n",
    "H"
   ]
  },
  {
   "cell_type": "markdown",
   "metadata": {},
   "source": [
    "For our purpose, we generate Clifford algebra by $C_4$ rotation $R_{C4}$, like $\\pi/4$ phase gate\n",
    "$$R_{C4}(\\sigma^{[\\mu]})=\\exp\\left(i\\dfrac{\\pi}{4}\\sigma^{[\\mu]}\\right)=\\dfrac{1}{\\sqrt{2}}(1+i \\sigma^{[\\mu]})$$"
   ]
  },
  {
   "cell_type": "markdown",
   "metadata": {},
   "source": [
    "Its adjoint on matrix $\\sigma^{[\\nu]}$ is given by\n",
    "$$R_{C4}^{\\dagger}(\\sigma^{[\\mu]})\\sigma^{[\\nu]}R_{C4}(\\sigma^{[\\mu]})=i\\sigma^{[\\nu]}\\sigma^{[\\mu]},~\\text{if they anti-commute}; \\sigma^{[\\nu]},~\\text{otherwise}$$"
   ]
  },
  {
   "cell_type": "markdown",
   "metadata": {},
   "source": [
    "We can use SBRG to calculate C4 rotation on a Hamiltonian"
   ]
  },
  {
   "cell_type": "code",
   "execution_count": 10,
   "metadata": {},
   "outputs": [
    {
     "name": "stdout",
     "output_type": "stream",
     "text": [
      "Hamiltonian:  [0.5 <Xs:[1] Zs:[]>, 0.2 <Xs:[] Zs:[0]>]\n"
     ]
    }
   ],
   "source": [
    "H = Ham(\n",
    "    [Term(mkMat([0,1]),0.5),\n",
    "     Term(mkMat([3,0]),0.2)])\n",
    "print('Hamiltonian: ', H)"
   ]
  },
  {
   "cell_type": "code",
   "execution_count": 11,
   "metadata": {},
   "outputs": [],
   "source": [
    "H.C4(Term(mkMat([0,2])))"
   ]
  },
  {
   "cell_type": "code",
   "execution_count": 12,
   "metadata": {},
   "outputs": [
    {
     "name": "stdout",
     "output_type": "stream",
     "text": [
      "Hamiltonian after rotation: [-0.5 <Xs:[] Zs:[1]>, 0.2 <Xs:[] Zs:[0]>]\n"
     ]
    }
   ],
   "source": [
    "print('Hamiltonian after rotation:', H)"
   ]
  },
  {
   "cell_type": "markdown",
   "metadata": {},
   "source": [
    "We can also use a list to contain a serial of $R_{C4}$ rotations, and use \".forward()\" function to rotate Hamiltonain sequentially."
   ]
  },
  {
   "cell_type": "code",
   "execution_count": 13,
   "metadata": {},
   "outputs": [
    {
     "name": "stdout",
     "output_type": "stream",
     "text": [
      "Hamiltonian:  [0.5 <Xs:[1] Zs:[]>, 0.2 <Xs:[] Zs:[0]>]\n",
      "Hamiltonian after rotation:  [-0.5 <Xs:[] Zs:[1]>, 0.2 <Xs:[0] Zs:[]>]\n"
     ]
    }
   ],
   "source": [
    "H = Ham(\n",
    "    [Term(mkMat([0,1]),0.5),\n",
    "     Term(mkMat([3,0]),0.2)])\n",
    "print('Hamiltonian: ', H)\n",
    "C4_list = [Term(mkMat([0,2])),Term(mkMat([2,0]))]\n",
    "H.forward(C4_list)\n",
    "print('Hamiltonian after rotation: ', H)"
   ]
  },
  {
   "cell_type": "markdown",
   "metadata": {},
   "source": [
    "### Create your own physical model of disorder systems"
   ]
  },
  {
   "cell_type": "markdown",
   "metadata": {},
   "source": [
    "A model will be contained in the `Model()` class. Here we will demostrate how to create your own model with `SBRG`."
   ]
  },
  {
   "cell_type": "markdown",
   "metadata": {},
   "source": [
    "Here, we demostrate how to create the random transverse field Ising model with periodic boundary condition using `Model` class:\n",
    "$$H=-\\sum_{i}J_i X_i X_{i+1}-\\sum_{i}K_i Z_i Z_{i+1}-\\sum_i h_i Z_i$$"
   ]
  },
  {
   "cell_type": "code",
   "execution_count": 14,
   "metadata": {},
   "outputs": [],
   "source": [
    "# quantum Ising model\n",
    "def Custom_TFIsing(L, **para):\n",
    "    # L - number of sites (assuming PBC)\n",
    "    # model - a dict of model parameters\n",
    "    try: # set parameter alpha\n",
    "        alpha = para['alpha']\n",
    "        alpha_J = alpha\n",
    "        alpha_K = alpha\n",
    "        alpha_h = alpha\n",
    "    except:\n",
    "        alpha_J = para.get('alpha_J',1)\n",
    "        alpha_K = para.get('alpha_K',1)\n",
    "        alpha_h = para.get('alpha_h',1)\n",
    "    model = Model()\n",
    "    model.size = L\n",
    "    H_append = model.terms.append\n",
    "    rnd_beta = random.betavariate\n",
    "    for i in range(L):\n",
    "        H_append(Term(mkMat({i: 1, (i+1)%L: 1}), -para['J']*rnd_beta(alpha_J, 1)))\n",
    "        H_append(Term(mkMat({i: 3, (i+1)%L: 3}), -para['K']*rnd_beta(alpha_K, 1)))\n",
    "        H_append(Term(mkMat({i: 3}), -para['h']*rnd_beta(alpha_h, 1)))\n",
    "    model.terms = [term for term in model.terms if abs(term.val) > 0]\n",
    "    return model"
   ]
  },
  {
   "cell_type": "markdown",
   "metadata": {},
   "source": [
    "Now we can use it to generate random Hamiltonians for transverse field Ising model!"
   ]
  },
  {
   "cell_type": "code",
   "execution_count": 15,
   "metadata": {},
   "outputs": [],
   "source": [
    "H = Custom_TFIsing(10,**{'alpha':1, 'J':0, 'K':1, 'h':0.1})"
   ]
  },
  {
   "cell_type": "markdown",
   "metadata": {},
   "source": [
    "We can print the terms in our model:"
   ]
  },
  {
   "cell_type": "code",
   "execution_count": 16,
   "metadata": {},
   "outputs": [
    {
     "data": {
      "text/plain": [
       "[-0.26216536595768364 <Xs:[] Zs:[0, 1]>,\n",
       " -0.07331409782510911 <Xs:[] Zs:[0]>,\n",
       " -0.18135000614695782 <Xs:[] Zs:[1, 2]>,\n",
       " -0.014367642901688682 <Xs:[] Zs:[1]>,\n",
       " -0.09833526238207803 <Xs:[] Zs:[2, 3]>,\n",
       " -0.07933741095985097 <Xs:[] Zs:[2]>,\n",
       " -0.43706198604889657 <Xs:[] Zs:[3, 4]>,\n",
       " -0.07406712375788908 <Xs:[] Zs:[3]>,\n",
       " -0.8154326125094679 <Xs:[] Zs:[4, 5]>,\n",
       " -0.06965527185793578 <Xs:[] Zs:[4]>,\n",
       " -0.6216271216182655 <Xs:[] Zs:[5, 6]>,\n",
       " -0.08992626014738053 <Xs:[] Zs:[5]>,\n",
       " -0.26501466488084463 <Xs:[] Zs:[6, 7]>,\n",
       " -0.027431248519053698 <Xs:[] Zs:[6]>,\n",
       " -0.8894988719555125 <Xs:[] Zs:[7, 8]>,\n",
       " -0.027112836809803705 <Xs:[] Zs:[7]>,\n",
       " -0.8037409572265031 <Xs:[] Zs:[8, 9]>,\n",
       " -0.09338510898093769 <Xs:[] Zs:[8]>,\n",
       " -0.9697326564031314 <Xs:[] Zs:[0, 9]>,\n",
       " -0.09740373603703097 <Xs:[] Zs:[9]>]"
      ]
     },
     "execution_count": 16,
     "metadata": {},
     "output_type": "execute_result"
    }
   ],
   "source": [
    "H.terms"
   ]
  },
  {
   "cell_type": "markdown",
   "metadata": {},
   "source": [
    "### Bridge to `Qutip` package"
   ]
  },
  {
   "cell_type": "markdown",
   "metadata": {},
   "source": [
    "`Qutip` is an open source python package for quantum system simulation. \n",
    "\n",
    "And we have build the tool to transform SBRG `Ham` class object to `Qutip` Qobj class object."
   ]
  },
  {
   "cell_type": "markdown",
   "metadata": {},
   "source": [
    "To transform SBRG Hamiltonian to Qutip Hamiltonian, you can use `system_Ham_to_qutip_Ham(system_size, SBRG_Hamiltonian)`"
   ]
  },
  {
   "cell_type": "markdown",
   "metadata": {},
   "source": [
    "Links to `Qutip` documents: [Link](http://nbviewer.ipython.org/urls/raw.github.com/jrjohansson/qutip-lectures/master/Lecture-0-Introduction-to-QuTiP.ipynb)"
   ]
  },
  {
   "cell_type": "markdown",
   "metadata": {},
   "source": [
    "Suppose we create a `SBRG` Hamiltonian:"
   ]
  },
  {
   "cell_type": "code",
   "execution_count": 17,
   "metadata": {},
   "outputs": [],
   "source": [
    "H = Ham(\n",
    "    [Term(mkMat([0,1]),0.5),\n",
    "     Term(mkMat([3,0]),0.2)])"
   ]
  },
  {
   "cell_type": "markdown",
   "metadata": {},
   "source": [
    "We can transform it to `Qutip` Hamiltonian:"
   ]
  },
  {
   "cell_type": "code",
   "execution_count": 18,
   "metadata": {},
   "outputs": [
    {
     "name": "stdout",
     "output_type": "stream",
     "text": [
      "Quantum object: dims = [[2, 2], [2, 2]], shape = (4, 4), type = oper, isherm = True\n",
      "Qobj data =\n",
      "[[ 0.2  0.5  0.   0. ]\n",
      " [ 0.5  0.2  0.   0. ]\n",
      " [ 0.   0.  -0.2  0.5]\n",
      " [ 0.   0.   0.5 -0.2]]\n"
     ]
    }
   ],
   "source": [
    "Qutip_H = system_Ham_to_qutip_Ham(2,H)\n",
    "print(Qutip_H)"
   ]
  },
  {
   "cell_type": "markdown",
   "metadata": {},
   "source": [
    "Let's try transverse field Ising model Hamiltonian:"
   ]
  },
  {
   "cell_type": "code",
   "execution_count": 19,
   "metadata": {},
   "outputs": [],
   "source": [
    "H = Custom_TFIsing(10,**{'alpha':1, 'J':0, 'K':1, 'h':0.1})"
   ]
  },
  {
   "cell_type": "code",
   "execution_count": 20,
   "metadata": {},
   "outputs": [],
   "source": [
    "Qutip_H = system_Ham_to_qutip_Ham(10, H)"
   ]
  },
  {
   "cell_type": "code",
   "execution_count": 21,
   "metadata": {},
   "outputs": [
    {
     "name": "stdout",
     "output_type": "stream",
     "text": [
      "Quantum object: dims = [[2, 2, 2, 2, 2, 2, 2, 2, 2, 2], [2, 2, 2, 2, 2, 2, 2, 2, 2, 2]], shape = (1024, 1024), type = oper, isherm = True\n",
      "Qobj data =\n",
      "[[-5.46627366  0.          0.         ...  0.          0.\n",
      "   0.        ]\n",
      " [ 0.         -3.78863957  0.         ...  0.          0.\n",
      "   0.        ]\n",
      " [ 0.          0.         -3.76134386 ...  0.          0.\n",
      "   0.        ]\n",
      " ...\n",
      " [ 0.          0.          0.         ... -3.0524237   0.\n",
      "   0.        ]\n",
      " [ 0.          0.          0.         ...  0.         -3.21479928\n",
      "   0.        ]\n",
      " [ 0.          0.          0.         ...  0.          0.\n",
      "  -4.72627332]]\n"
     ]
    }
   ],
   "source": [
    "print(Qutip_H)"
   ]
  },
  {
   "cell_type": "markdown",
   "metadata": {},
   "source": [
    "## SBRG"
   ]
  },
  {
   "cell_type": "markdown",
   "metadata": {},
   "source": [
    "### How to use SBRG algorithm diagonalizing our Hamiltonian iteratively?"
   ]
  },
  {
   "cell_type": "code",
   "execution_count": 22,
   "metadata": {},
   "outputs": [],
   "source": [
    "model = Custom_TFIsing(10,**{'alpha':1, 'J':1, 'K':0, 'h':0})\n",
    "system = SBRG(model)"
   ]
  },
  {
   "cell_type": "markdown",
   "metadata": {},
   "source": [
    "There are some hyperparameters that controls how many new terms generated by perturbation theory are going to be kept:"
   ]
  },
  {
   "cell_type": "markdown",
   "metadata": {},
   "source": [
    "SBRG.tol      :: float : terms with energy < leading energy * tol will be truncated\n",
    "\n",
    "SBRG.max_rate :: float : each RG step allows at most (max_rate * num of off-diagonal terms) amount of new terms"
   ]
  },
  {
   "cell_type": "code",
   "execution_count": 23,
   "metadata": {},
   "outputs": [
    {
     "data": {
      "text/plain": [
       "<__main__.SBRG at 0x1e297c86190>"
      ]
     },
     "execution_count": 23,
     "metadata": {},
     "output_type": "execute_result"
    }
   ],
   "source": [
    "system.tol = 0.\n",
    "system.max_rate = 1000.\n",
    "system.run()"
   ]
  },
  {
   "cell_type": "markdown",
   "metadata": {},
   "source": [
    "Now the Hamiltonian is fully diagonalized. We can check the effective Hamiltonian, and find it is all in pauli-Z basis."
   ]
  },
  {
   "cell_type": "code",
   "execution_count": 24,
   "metadata": {},
   "outputs": [
    {
     "data": {
      "text/plain": [
       "[-0.8671575172034801 <Xs:[] Zs:[1]>,\n",
       " -0.8081486352315497 <Xs:[] Zs:[2]>,\n",
       " -0.7350048411695649 <Xs:[] Zs:[6]>,\n",
       " -0.6968006349114628 <Xs:[] Zs:[5]>,\n",
       " -0.6770677881016107 <Xs:[] Zs:[4]>,\n",
       " -0.5927071250829615 <Xs:[] Zs:[3]>,\n",
       " -0.23482245000371232 <Xs:[] Zs:[8]>,\n",
       " -0.22430549452076293 <Xs:[] Zs:[0]>,\n",
       " -0.003487516918250927 <Xs:[] Zs:[0, 1, 2, 3, 4, 5, 6, 7, 8]>,\n",
       " -0.03072720685950509 <Xs:[] Zs:[7]>]"
      ]
     },
     "execution_count": 24,
     "metadata": {},
     "output_type": "execute_result"
    }
   ],
   "source": [
    "system.Heff"
   ]
  },
  {
   "cell_type": "markdown",
   "metadata": {},
   "source": [
    "We can find the ground state, and its associated energy by `.grndstate_blk()` function."
   ]
  },
  {
   "cell_type": "code",
   "execution_count": 25,
   "metadata": {},
   "outputs": [],
   "source": [
    "ground_state, energy = system.grndstate_blk()"
   ]
  },
  {
   "cell_type": "code",
   "execution_count": 26,
   "metadata": {},
   "outputs": [
    {
     "name": "stdout",
     "output_type": "stream",
     "text": [
      "ground state is indicated by the effective bulk spins:\n"
     ]
    },
    {
     "data": {
      "text/plain": [
       "[1, 1, 1, 1, 1, 1, 1, 1, 1, -1]"
      ]
     },
     "execution_count": 26,
     "metadata": {},
     "output_type": "execute_result"
    }
   ],
   "source": [
    "print('ground state is indicated by the effective bulk spins:')\n",
    "ground_state"
   ]
  },
  {
   "cell_type": "code",
   "execution_count": 27,
   "metadata": {},
   "outputs": [
    {
     "data": {
      "text/plain": [
       "-4.8702292100028615"
      ]
     },
     "execution_count": 27,
     "metadata": {},
     "output_type": "execute_result"
    }
   ],
   "source": [
    "energy"
   ]
  },
  {
   "cell_type": "markdown",
   "metadata": {},
   "source": [
    "Instead of just getting ground state, you can also get the full spectrum of your Hamiltonian"
   ]
  },
  {
   "cell_type": "code",
   "execution_count": 28,
   "metadata": {},
   "outputs": [],
   "source": [
    "full_spectrum = get_full_spectrum(system)"
   ]
  },
  {
   "cell_type": "code",
   "execution_count": 29,
   "metadata": {},
   "outputs": [
    {
     "data": {
      "text/plain": [
       "[<matplotlib.lines.Line2D at 0x1e2983c5730>]"
      ]
     },
     "execution_count": 29,
     "metadata": {},
     "output_type": "execute_result"
    },
    {
     "data": {
      "image/png": "[encoded data removed]",
      "text/plain": [
       "<Figure size 432x288 with 1 Axes>"
      ]
     },
     "metadata": {
      "needs_background": "light"
     },
     "output_type": "display_data"
    }
   ],
   "source": [
    "plt.plot(sorted(full_spectrum),'o')"
   ]
  },
  {
   "cell_type": "markdown",
   "metadata": {},
   "source": [
    "## Expectation value of physical observables"
   ]
  },
  {
   "cell_type": "markdown",
   "metadata": {},
   "source": [
    "Once we have diagonalize the Hamiltonian, we would also like to calculate some physical observables, such as magnitization, correlation, and etc. \n",
    "\n",
    "This can be done by calling `.measure_ops(self, ops, state)` for SBRG class object. It will calculate \n",
    "$$\\langle \\text{state}|\\text{ops}|\\text{state}\\rangle$$"
   ]
  },
  {
   "cell_type": "markdown",
   "metadata": {},
   "source": [
    "To calculate $\\langle \\text{state}|\\text{ops}|\\text{state}\\rangle$ faster, SBRG will do all the calculation in the effective \"bulk\" spins space, where all the effective Hamiltonian is in the pauli-Z basis. Therefore, $|\\text{state}\\rangle$ will be specified in the pauli-Z effective basis. And we use a `list` to contain all the values for effective spins.\n",
    "\n",
    "For example, suppose we have a 5 qubit system, one of the state could be $|\\text{state}\\rangle=[1,1,-1,-1,1]$. One should notice that this doesn't mean this state is a product state. This state may still be entangled in the original physical space, all the entanglement entropy is captured in the SBRG circuits, they \"disentangle\" the state to make calculation easier. We will cover entanglement entropy in the next section."
   ]
  },
  {
   "cell_type": "code",
   "execution_count": 57,
   "metadata": {},
   "outputs": [],
   "source": [
    "def spin_spin_cor(x, y):\n",
    "    return Ham([Term(mkMat({x: 3, y: 3}), 1)])\n",
    "\n",
    "def magnetization(x):\n",
    "    return Ham([Term(mkMat({x: 3}), 1)])"
   ]
  },
  {
   "cell_type": "code",
   "execution_count": null,
   "metadata": {},
   "outputs": [
    {
     "name": "stdout",
     "output_type": "stream",
     "text": [
      "120\n",
      "91\n",
      "66\n",
      "136\n",
      "66\n",
      "276\n",
      "496\n",
      "1176\n",
      "66\n",
      "210\n",
      "820\n",
      "300\n",
      "4278\n",
      "6555\n",
      "780\n",
      "10878\n",
      "66\n",
      "9591\n",
      "406\n",
      "1326\n",
      "1326\n",
      "820\n",
      "17205\n",
      "91806\n",
      "203841\n",
      "903\n",
      "1567335\n",
      "84255\n",
      "66\n",
      "18915\n",
      "46056\n",
      "1378\n",
      "37950\n",
      "1431\n",
      "15753\n",
      "138075\n",
      "322003\n",
      "167331\n",
      "2534626\n",
      "238395\n",
      "the sum of the absolute values of trash is  0.011127761040802304\n",
      "the max_len is 3455 and the total num is 238395\n",
      "3815703\n",
      "5552778\n",
      "the sum of the absolute values of trash is  0.34274576313397037\n",
      "the max_len is 5000 and the total num is 5552778\n",
      "5221296\n",
      "889111\n",
      "the sum of the absolute values of trash is  0.8436150102956099\n",
      "the max_len is 5000 and the total num is 889111\n",
      "91\n",
      "325\n",
      "741\n",
      "66\n",
      "276\n",
      "253\n",
      "820\n",
      "210\n",
      "66\n",
      "2628\n",
      "325\n",
      "861\n",
      "17020\n",
      "861\n",
      "6786\n",
      "5886\n",
      "16110\n",
      "21528\n",
      "210\n",
      "174936\n",
      "8646\n",
      "2080\n",
      "8385\n",
      "34980\n",
      "528\n",
      "354903\n",
      "203203\n",
      "1090026\n",
      "6221628\n",
      "47278\n",
      "4560\n",
      "81810\n",
      "the sum of the absolute values of trash is  0.014174232144783186\n",
      "the max_len is 2025 and the total num is 81810\n",
      "1062153\n",
      "9180\n",
      "the sum of the absolute values of trash is  0.018639550849032988\n",
      "the max_len is 680 and the total num is 9180\n",
      "47278\n",
      "419070\n",
      "996166\n",
      "the sum of the absolute values of trash is  1.76397600371201\n",
      "the max_len is 5000 and the total num is 996166\n",
      "7850703\n",
      "10280845\n",
      "917335\n",
      "2990235\n",
      "the sum of the absolute values of trash is  54.769366507027776\n",
      "the max_len is 5000 and the total num is 2990235\n",
      "66\n",
      "66\n",
      "66\n",
      "231\n",
      "276\n",
      "378\n",
      "136\n",
      "1035\n",
      "1953\n",
      "465\n",
      "231\n",
      "91\n",
      "3403\n",
      "946\n",
      "903\n",
      "5886\n",
      "1035\n",
      "93096\n",
      "861\n",
      "270480\n",
      "4851\n",
      "11026\n",
      "8778\n",
      "4095\n",
      "54615\n",
      "139656\n",
      "62835\n",
      "210\n",
      "2211\n",
      "253\n",
      "703\n",
      "4656\n",
      "8256\n",
      "333336\n",
      "1680861\n",
      "101475\n",
      "the sum of the absolute values of trash is  0.012565425535714601\n",
      "the max_len is 2255 and the total num is 101475\n",
      "43365\n",
      "144453\n",
      "195625\n",
      "4160170\n",
      "the sum of the absolute values of trash is  0.027255436661387977\n",
      "the max_len is 5000 and the total num is 4160170\n",
      "642411\n",
      "2509920\n",
      "the sum of the absolute values of trash is  0.030100791565025625\n",
      "the max_len is 5000 and the total num is 2509920\n",
      "2269515\n",
      "3034416\n",
      "the sum of the absolute values of trash is  0.017849907404315205\n",
      "the max_len is 5000 and the total num is 3034416\n",
      "4117015\n",
      "8038045\n",
      "the sum of the absolute values of trash is  0.10087593169665535\n",
      "the max_len is 5000 and the total num is 8038045\n"
     ]
    }
   ],
   "source": [
    "n_runs = 100\n",
    "corr_array = np.zeros(100)\n",
    "mag_array = np.zeros(shape=(5, 100))\n",
    "\n",
    "K_array = np.array([0.6, 0.8, 1.0, 1.2, 1.4])\n",
    "\n",
    "for i, K in enumerate(K_array):\n",
    "    for run in range(n_runs):\n",
    "        model = Custom_TFIsing(100,**{'alpha':1, 'J':1., 'K':K, 'h':0.1})\n",
    "        system = SBRG(model)\n",
    "\n",
    "        system.tol = 0.\n",
    "        system.max_rate = 1000.\n",
    "        system.run()\n",
    "\n",
    "        ground_state, energy = system.grndstate_blk()\n",
    "\n",
    "        for site in range(100):\n",
    "            spin_01 = spin_spin_cor(0,site)\n",
    "            mag_site = magnetization(site)\n",
    "            corr_array[site] += system.measure_ops(spin_01, ground_state)\n",
    "            mag_array[i, site] += system.measure_ops(mag_site, ground_state)"
   ]
  },
  {
   "cell_type": "code",
   "execution_count": 56,
   "metadata": {},
   "outputs": [
    {
     "data": {
      "text/plain": [
       "array([[ 0.00160055, -0.00088412],\n",
       "       [-0.00088412,  0.00074598]])"
      ]
     },
     "execution_count": 56,
     "metadata": {},
     "output_type": "execute_result"
    }
   ],
   "source": [
    "from scipy.optimize import curve_fit\n",
    "\n",
    "def stretched_exp(r, A, psi):\n",
    "    return np.exp(-A*r**psi)\n",
    "\n",
    "\n",
    "corr_array[0] = n_runs\n",
    "x_data = np.arange(100)\n",
    "y_data = corr_array/n_runs\n",
    "\n",
    "popt, pcov = curve_fit(stretched_exp, x_data[:50], y_data[:50])\n",
    "\n",
    "pcov"
   ]
  },
  {
   "cell_type": "code",
   "execution_count": 55,
   "metadata": {},
   "outputs": [
    {
     "data": {
      "text/plain": [
       "(0.0, 40.0)"
      ]
     },
     "execution_count": 55,
     "metadata": {},
     "output_type": "execute_result"
    },
    {
     "data": {
      "image/png": "[encoded data removed]",
      "text/plain": [
       "<Figure size 432x288 with 1 Axes>"
      ]
     },
     "metadata": {
      "needs_background": "light"
     },
     "output_type": "display_data"
    }
   ],
   "source": [
    "\n",
    "plt.scatter(x_data, y_data)\n",
    "plt.plot(x_data, power_law(x_data, *popt))\n",
    "plt.xlim(0, 40)"
   ]
  },
  {
   "cell_type": "code",
   "execution_count": 66,
   "metadata": {},
   "outputs": [
    {
     "data": {
      "image/png": "[encoded data removed]",
      "text/plain": [
       "<Figure size 432x288 with 1 Axes>"
      ]
     },
     "metadata": {
      "needs_background": "light"
     },
     "output_type": "display_data"
    }
   ],
   "source": [
    "for i, K in enumerate(K_array):\n",
    "    plt.scatter(x_data, mag_array[i,:]/n_runs)"
   ]
  },
  {
   "cell_type": "markdown",
   "metadata": {},
   "source": [
    "## Entanglement Entropy"
   ]
  },
  {
   "cell_type": "code",
   "execution_count": null,
   "metadata": {},
   "outputs": [],
   "source": []
  },
  {
   "cell_type": "code",
   "execution_count": null,
   "metadata": {},
   "outputs": [],
   "source": []
  },
  {
   "cell_type": "code",
   "execution_count": null,
   "metadata": {},
   "outputs": [],
   "source": []
  },
  {
   "cell_type": "code",
   "execution_count": null,
   "metadata": {},
   "outputs": [],
   "source": []
  },
  {
   "cell_type": "code",
   "execution_count": 33,
   "metadata": {},
   "outputs": [
    {
     "data": {
      "text/plain": [
       "set()"
      ]
     },
     "execution_count": 33,
     "metadata": {},
     "output_type": "execute_result"
    }
   ],
   "source": [
    "set()"
   ]
  },
  {
   "cell_type": "code",
   "execution_count": null,
   "metadata": {},
   "outputs": [],
   "source": []
  }
 ],
 "metadata": {
  "@webio": {
   "lastCommId": null,
   "lastKernelId": null
  },
  "hide_input": false,
  "kernelspec": {
   "display_name": "Python 3 (ipykernel)",
   "language": "python",
   "name": "python3"
  },
  "language_info": {
   "codemirror_mode": {
    "name": "ipython",
    "version": 3
   },
   "file_extension": ".py",
   "mimetype": "text/x-python",
   "name": "python",
   "nbconvert_exporter": "python",
   "pygments_lexer": "ipython3",
   "version": "3.9.12"
  }
 },
 "nbformat": 4,
 "nbformat_minor": 2
}
