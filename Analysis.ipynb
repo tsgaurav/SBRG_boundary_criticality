{
 "cells": [
  {
   "cell_type": "code",
   "execution_count": 93,
   "id": "cf312e85",
   "metadata": {},
   "outputs": [
    {
     "data": {
      "text/plain": [
       "<Figure size 432x288 with 0 Axes>"
      ]
     },
     "metadata": {},
     "output_type": "display_data"
    }
   ],
   "source": [
    "# %reload_ext snakeviz\n",
    "%matplotlib inline\n",
    "%run SBRG.py\n",
    "import matplotlib.pyplot as plt\n",
    "import time\n",
    "from scipy.optimize import curve_fit"
   ]
  },
  {
   "cell_type": "code",
   "execution_count": 88,
   "id": "21419133",
   "metadata": {},
   "outputs": [
    {
     "name": "stdout",
     "output_type": "stream",
     "text": [
      "Lx=100\n",
      "Ly_list=[10 30 50]\n",
      "n_runs=300\n"
     ]
    }
   ],
   "source": [
    "file = np.load(\"Spin_spin_corr_J1.0_h1.0_1663664264.9300902.npz\")\n",
    "data = file['data']\n",
    "label = np.array_str(file['label'])\n",
    "\n",
    "print(label)"
   ]
  },
  {
   "cell_type": "code",
   "execution_count": 99,
   "id": "99f972d0",
   "metadata": {},
   "outputs": [
    {
     "data": {
      "text/plain": [
       "[<matplotlib.lines.Line2D at 0x22be88e9100>]"
      ]
     },
     "execution_count": 99,
     "metadata": {},
     "output_type": "execute_result"
    },
    {
     "data": {
      "image/png": "[encoded data removed]",
      "text/plain": [
       "<Figure size 432x288 with 1 Axes>"
      ]
     },
     "metadata": {
      "needs_background": "light"
     },
     "output_type": "display_data"
    }
   ],
   "source": [
    "Lx = int(label.splitlines()[0][3:])\n",
    "Ly_list = np.array([int(number) for number in label.splitlines()[1][9:-1].split()])\n",
    "n_runs = int(label.splitlines()[2][7:])\n",
    "\n",
    "x = np.arange(0,Lx)\n",
    "\n",
    "\n",
    "for i, L in enumerate(Ly_list):\n",
    "    data[i,0] = n_runs\n",
    "    if i!=2: continue\n",
    "    plt.scatter(x, -np.log(data[i, :]/n_runs))\n",
    "    \n",
    "plt.ylim(0, 1)\n",
    "#plt.xlim(0, 20)\n",
    "A, psi = [0.51481007, 0.00373156]\n",
    "x_fit = np.linspace(x.min(), x.max(), 1000)\n",
    "y_fit = power_law(x_fit, A, psi)\n",
    "plt.plot(x_fit, y_fit)"
   ]
  },
  {
   "cell_type": "code",
   "execution_count": 94,
   "id": "13a10e23",
   "metadata": {},
   "outputs": [],
   "source": [
    "def power_law(r, A, psi):\n",
    "    return A*r**psi"
   ]
  },
  {
   "cell_type": "code",
   "execution_count": 96,
   "id": "deb334ee",
   "metadata": {},
   "outputs": [
    {
     "name": "stderr",
     "output_type": "stream",
     "text": [
      "C:\\Users\\tsgau\\AppData\\Local\\Temp\\ipykernel_24012\\765529621.py:2: RuntimeWarning: divide by zero encountered in power\n",
      "  return A*r**psi\n"
     ]
    },
    {
     "data": {
      "text/plain": [
       "array([0.51481007, 0.00373156])"
      ]
     },
     "execution_count": 96,
     "metadata": {},
     "output_type": "execute_result"
    }
   ],
   "source": [
    "x_data = x\n",
    "y_data = -np.log(data[-1, :]/n_runs)\n",
    "\n",
    "popt, pcov = curve_fit(power_law, x_data, y_data)\n",
    "\n",
    "popt"
   ]
  },
  {
   "cell_type": "code",
   "execution_count": 71,
   "id": "dc6cc62f",
   "metadata": {},
   "outputs": [
    {
     "data": {
      "text/plain": [
       "array('[50]', dtype='<U4')"
      ]
     },
     "execution_count": 71,
     "metadata": {},
     "output_type": "execute_result"
    }
   ],
   "source": []
  },
  {
   "cell_type": "code",
   "execution_count": 80,
   "id": "56dd5430",
   "metadata": {},
   "outputs": [
    {
     "data": {
      "text/plain": [
       "[50]"
      ]
     },
     "execution_count": 80,
     "metadata": {},
     "output_type": "execute_result"
    }
   ],
   "source": []
  },
  {
   "cell_type": "code",
   "execution_count": null,
   "id": "3ddc61d3",
   "metadata": {},
   "outputs": [],
   "source": []
  }
 ],
 "metadata": {
  "kernelspec": {
   "display_name": "Python 3 (ipykernel)",
   "language": "python",
   "name": "python3"
  },
  "language_info": {
   "codemirror_mode": {
    "name": "ipython",
    "version": 3
   },
   "file_extension": ".py",
   "mimetype": "text/x-python",
   "name": "python",
   "nbconvert_exporter": "python",
   "pygments_lexer": "ipython3",
   "version": "3.9.12"
  }
 },
 "nbformat": 4,
 "nbformat_minor": 5
}
